{
 "cells": [
  {
   "cell_type": "code",
   "execution_count": 1,
   "metadata": {},
   "outputs": [],
   "source": [
    "import numpy as np\n",
    "import pandas as pd\n",
    "mv=pd.read_csv('movie_final.csv')"
   ]
  },
  {
   "cell_type": "code",
   "execution_count": 2,
   "metadata": {},
   "outputs": [
    {
     "data": {
      "text/html": [
       "<div>\n",
       "<style scoped>\n",
       "    .dataframe tbody tr th:only-of-type {\n",
       "        vertical-align: middle;\n",
       "    }\n",
       "\n",
       "    .dataframe tbody tr th {\n",
       "        vertical-align: top;\n",
       "    }\n",
       "\n",
       "    .dataframe thead th {\n",
       "        text-align: right;\n",
       "    }\n",
       "</style>\n",
       "<table border=\"1\" class=\"dataframe\">\n",
       "  <thead>\n",
       "    <tr style=\"text-align: right;\">\n",
       "      <th></th>\n",
       "      <th>id</th>\n",
       "      <th>title</th>\n",
       "      <th>adult</th>\n",
       "      <th>imdb_id</th>\n",
       "      <th>genres</th>\n",
       "      <th>poster_path</th>\n",
       "      <th>overview</th>\n",
       "      <th>vote_average</th>\n",
       "      <th>cast</th>\n",
       "      <th>crew</th>\n",
       "      <th>tags</th>\n",
       "    </tr>\n",
       "  </thead>\n",
       "  <tbody>\n",
       "    <tr>\n",
       "      <th>0</th>\n",
       "      <td>862.0</td>\n",
       "      <td>Toy Story</td>\n",
       "      <td>NoAdult</td>\n",
       "      <td>tt0114709</td>\n",
       "      <td>['Animation', 'Comedy', 'Family']</td>\n",
       "      <td>/rhIRbceoE9lR4veEXuwCC2wARtG.jpg</td>\n",
       "      <td>['Led', 'by', 'Woody,', \"Andy's\", 'toys', 'liv...</td>\n",
       "      <td>7.7</td>\n",
       "      <td>['TomHanks', 'TimAllen', 'DonRickles', 'JimVar...</td>\n",
       "      <td>['JohnLasseter']</td>\n",
       "      <td>led by woody, andy's toys live happily in his ...</td>\n",
       "    </tr>\n",
       "    <tr>\n",
       "      <th>1</th>\n",
       "      <td>8844.0</td>\n",
       "      <td>Jumanji</td>\n",
       "      <td>NoAdult</td>\n",
       "      <td>tt0113497</td>\n",
       "      <td>['Adventure', 'Fantasy', 'Family']</td>\n",
       "      <td>/vzmL6fP7aPKNKPRTFnZmiUfciyV.jpg</td>\n",
       "      <td>['When', 'siblings', 'Judy', 'and', 'Peter', '...</td>\n",
       "      <td>6.9</td>\n",
       "      <td>['RobinWilliams', 'JonathanHyde', 'KirstenDuns...</td>\n",
       "      <td>['JoeJohnston']</td>\n",
       "      <td>when siblings judy and peter discover an encha...</td>\n",
       "    </tr>\n",
       "    <tr>\n",
       "      <th>2</th>\n",
       "      <td>15602.0</td>\n",
       "      <td>Grumpier Old Men</td>\n",
       "      <td>NoAdult</td>\n",
       "      <td>tt0113228</td>\n",
       "      <td>['Romance', 'Comedy']</td>\n",
       "      <td>/6ksm1sjKMFLbO7UY2i6G1ju9SML.jpg</td>\n",
       "      <td>['A', 'family', 'wedding', 'reignites', 'the',...</td>\n",
       "      <td>6.5</td>\n",
       "      <td>['WalterMatthau', 'JackLemmon', 'Ann-Margret',...</td>\n",
       "      <td>['HowardDeutch']</td>\n",
       "      <td>a family wedding reignites the ancient feud be...</td>\n",
       "    </tr>\n",
       "    <tr>\n",
       "      <th>3</th>\n",
       "      <td>31357.0</td>\n",
       "      <td>Waiting to Exhale</td>\n",
       "      <td>NoAdult</td>\n",
       "      <td>tt0114885</td>\n",
       "      <td>['Comedy', 'Drama', 'Romance']</td>\n",
       "      <td>/16XOMpEaLWkrcPqSQqhTmeJuqQl.jpg</td>\n",
       "      <td>['Cheated', 'on,', 'mistreated', 'and', 'stepp...</td>\n",
       "      <td>6.1</td>\n",
       "      <td>['WhitneyHouston', 'AngelaBassett', 'LorettaDe...</td>\n",
       "      <td>['ForestWhitaker']</td>\n",
       "      <td>cheated on, mistreated and stepped on, the wom...</td>\n",
       "    </tr>\n",
       "    <tr>\n",
       "      <th>4</th>\n",
       "      <td>11862.0</td>\n",
       "      <td>Father of the Bride Part II</td>\n",
       "      <td>NoAdult</td>\n",
       "      <td>tt0113041</td>\n",
       "      <td>['Comedy']</td>\n",
       "      <td>/e64sOI48hQXyru7naBFyssKFxVd.jpg</td>\n",
       "      <td>['Just', 'when', 'George', 'Banks', 'has', 're...</td>\n",
       "      <td>5.7</td>\n",
       "      <td>['SteveMartin', 'DianeKeaton', 'MartinShort', ...</td>\n",
       "      <td>['CharlesShyer']</td>\n",
       "      <td>just when george banks has recovered from his ...</td>\n",
       "    </tr>\n",
       "  </tbody>\n",
       "</table>\n",
       "</div>"
      ],
      "text/plain": [
       "        id                        title    adult    imdb_id  \\\n",
       "0    862.0                    Toy Story  NoAdult  tt0114709   \n",
       "1   8844.0                      Jumanji  NoAdult  tt0113497   \n",
       "2  15602.0             Grumpier Old Men  NoAdult  tt0113228   \n",
       "3  31357.0            Waiting to Exhale  NoAdult  tt0114885   \n",
       "4  11862.0  Father of the Bride Part II  NoAdult  tt0113041   \n",
       "\n",
       "                               genres                       poster_path  \\\n",
       "0   ['Animation', 'Comedy', 'Family']  /rhIRbceoE9lR4veEXuwCC2wARtG.jpg   \n",
       "1  ['Adventure', 'Fantasy', 'Family']  /vzmL6fP7aPKNKPRTFnZmiUfciyV.jpg   \n",
       "2               ['Romance', 'Comedy']  /6ksm1sjKMFLbO7UY2i6G1ju9SML.jpg   \n",
       "3      ['Comedy', 'Drama', 'Romance']  /16XOMpEaLWkrcPqSQqhTmeJuqQl.jpg   \n",
       "4                          ['Comedy']  /e64sOI48hQXyru7naBFyssKFxVd.jpg   \n",
       "\n",
       "                                            overview  vote_average  \\\n",
       "0  ['Led', 'by', 'Woody,', \"Andy's\", 'toys', 'liv...           7.7   \n",
       "1  ['When', 'siblings', 'Judy', 'and', 'Peter', '...           6.9   \n",
       "2  ['A', 'family', 'wedding', 'reignites', 'the',...           6.5   \n",
       "3  ['Cheated', 'on,', 'mistreated', 'and', 'stepp...           6.1   \n",
       "4  ['Just', 'when', 'George', 'Banks', 'has', 're...           5.7   \n",
       "\n",
       "                                                cast                crew  \\\n",
       "0  ['TomHanks', 'TimAllen', 'DonRickles', 'JimVar...    ['JohnLasseter']   \n",
       "1  ['RobinWilliams', 'JonathanHyde', 'KirstenDuns...     ['JoeJohnston']   \n",
       "2  ['WalterMatthau', 'JackLemmon', 'Ann-Margret',...    ['HowardDeutch']   \n",
       "3  ['WhitneyHouston', 'AngelaBassett', 'LorettaDe...  ['ForestWhitaker']   \n",
       "4  ['SteveMartin', 'DianeKeaton', 'MartinShort', ...    ['CharlesShyer']   \n",
       "\n",
       "                                                tags  \n",
       "0  led by woody, andy's toys live happily in his ...  \n",
       "1  when siblings judy and peter discover an encha...  \n",
       "2  a family wedding reignites the ancient feud be...  \n",
       "3  cheated on, mistreated and stepped on, the wom...  \n",
       "4  just when george banks has recovered from his ...  "
      ]
     },
     "execution_count": 2,
     "metadata": {},
     "output_type": "execute_result"
    }
   ],
   "source": [
    "mv.head()"
   ]
  },
  {
   "cell_type": "code",
   "execution_count": 3,
   "metadata": {},
   "outputs": [],
   "source": [
    "from nltk.stem.porter import PorterStemmer\n",
    "ps=PorterStemmer()\n",
    "\n",
    "def stemme(text):\n",
    "    l=[]\n",
    "    d=text.split()\n",
    "    for i in d:\n",
    "        l.append(ps.stem(i))\n",
    "    return \" \".join(l)"
   ]
  },
  {
   "cell_type": "code",
   "execution_count": 4,
   "metadata": {},
   "outputs": [
    {
     "data": {
      "text/plain": [
       "\"led by woody, andy' toy live happili in hi room until andy' birthday bring buzz lightyear onto the scene. afraid of lose hi place in andy' heart, woodi plot against buzz. but when circumst separ buzz and woodi from their owner, the duo eventu learn to put asid their differences. tomhank timallen donrickl jimvarney wallaceshawn johnratzenberg anniepott johnmorri erikvondetten lauriemetcalf r.leeermey sarahfreeman pennjillett johnlasset noadult\""
      ]
     },
     "execution_count": 4,
     "metadata": {},
     "output_type": "execute_result"
    }
   ],
   "source": [
    "mv['tags']=mv['tags'].apply(stemme)\n",
    "mv['tags'][0]"
   ]
  },
  {
   "cell_type": "code",
   "execution_count": 5,
   "metadata": {},
   "outputs": [],
   "source": [
    "from sklearn.feature_extraction.text import CountVectorizer\n",
    "cv=CountVectorizer(max_features=5000,stop_words='english')\n",
    "\n",
    "vectors=cv.fit_transform(mv['tags']).toarray()\n"
   ]
  },
  {
   "cell_type": "code",
   "execution_count": 6,
   "metadata": {},
   "outputs": [
    {
     "data": {
      "text/plain": [
       "array([0, 0, 0, ..., 0, 0, 0], dtype=int64)"
      ]
     },
     "execution_count": 6,
     "metadata": {},
     "output_type": "execute_result"
    }
   ],
   "source": [
    "vectors[0]"
   ]
  },
  {
   "cell_type": "code",
   "execution_count": 7,
   "metadata": {},
   "outputs": [],
   "source": [
    "from sklearn.metrics.pairwise import cosine_similarity\n",
    "similarmovie=cosine_similarity(vectors)"
   ]
  },
  {
   "cell_type": "code",
   "execution_count": 8,
   "metadata": {},
   "outputs": [
    {
     "data": {
      "text/plain": [
       "id                                                          862.0\n",
       "title                                                   Toy Story\n",
       "adult                                                     NoAdult\n",
       "imdb_id                                                 tt0114709\n",
       "genres                          ['Animation', 'Comedy', 'Family']\n",
       "poster_path                      /rhIRbceoE9lR4veEXuwCC2wARtG.jpg\n",
       "overview        ['Led', 'by', 'Woody,', \"Andy's\", 'toys', 'liv...\n",
       "vote_average                                                  7.7\n",
       "cast            ['TomHanks', 'TimAllen', 'DonRickles', 'JimVar...\n",
       "crew                                             ['JohnLasseter']\n",
       "tags            led by woody, andy' toy live happili in hi roo...\n",
       "Name: 0, dtype: object"
      ]
     },
     "execution_count": 8,
     "metadata": {},
     "output_type": "execute_result"
    }
   ],
   "source": [
    "mv[mv['title'].str.contains('toy',na=False,case=False)==True].loc[0]"
   ]
  },
  {
   "cell_type": "code",
   "execution_count": 9,
   "metadata": {},
   "outputs": [
    {
     "name": "stdout",
     "output_type": "stream",
     "text": [
      "Avatar\n",
      "Avatar 2\n",
      "Xtro 3: Watch the Skies\n",
      "Alien Outpost\n",
      "Bucky Larson: Born to Be a Star\n",
      "Project Moon Base\n"
     ]
    }
   ],
   "source": [
    "mindex =mv[mv['title'].str.contains('Avatar',na=False,case=False)==True].index[0]\n",
    "mv.loc[[mindex]]\n",
    "\n",
    "matched=sorted(list(enumerate( similarmovie[mindex])),reverse=True,key=lambda x:x[1])[0:6]\n",
    "\n",
    "for i in matched:\n",
    "   c= mv.loc[i[0]]\n",
    "   print(c.title)\n"
   ]
  },
  {
   "cell_type": "code",
   "execution_count": 10,
   "metadata": {},
   "outputs": [],
   "source": [
    "def recomand(movie):\n",
    "    #mindex =mv[mv.title.str.startwith(movie)].index[0]\n",
    "    m=mv[mv['title'].str.contains(movie,na=False,case=False)==True]\n",
    "    # print(m)\n",
    "    output=[[]]\n",
    "    originmatch=[[\"title\",\"id\"]]\n",
    "    coun=0\n",
    "    if len(m)>0:\n",
    "      \n",
    "        for iL in m.index:\n",
    "            \n",
    "            movievector=similarmovie[iL]\n",
    "            matched=sorted(list(enumerate( movievector)),reverse=True,key=lambda x:x[1])[0:6]\n",
    "            for i in matched:\n",
    "                c= mv.loc[i[0]]\n",
    "                if(c.vote_average.astype(float)>5.4):\n",
    "                    output.append([c.title,i[0]])\n",
    "       \n",
    "    return output\n",
    "       "
   ]
  },
  {
   "cell_type": "code",
   "execution_count": 11,
   "metadata": {},
   "outputs": [
    {
     "name": "stdout",
     "output_type": "stream",
     "text": [
      "Terminator 2: Judgment Day /2y4dmgWYRMYXdD1UyJVcn2HSd1D.jpg tt0103064 7.7\n",
      "Terminator Genisys /5JU9ytZJyR3zmClGmVm9q4Geqbd.jpg tt1340138 5.8\n",
      "Blind Justice /cWEdVUfd4bEqtnt5t9Is3J8otBs.jpg tt0005529 6.7\n",
      "Terminator 3: Rise of the Machines /lz4xYdF1n09lyiCfZWtWT44SZiG.jpg tt0181852 5.9\n",
      "The Kindred /i6CoZQgJzlX7TpBTobDUr6M08TY.jpg tt0091343 5.9\n",
      "The Terminator /q8ffBuxQlYOHrvPniLgCbmKK4Lv.jpg tt0088247 7.4\n",
      "Terminator 2: Judgment Day /2y4dmgWYRMYXdD1UyJVcn2HSd1D.jpg tt0103064 7.7\n",
      "The Day of the Jackal /5dN5MIJGgJQ1yzgzQpxvhuZ2HN3.jpg tt0069947 7.3\n",
      "Terminator Salvation /gw6JhlekZgtKUFlDTezq3j5JEPK.jpg tt0438488 5.9\n",
      "The Exterminator /A0xIUPSH11W0LjlJU1Xk12z210q.jpg tt0080707 6.1\n",
      "Big Jay Oakerson: Live at Webster Hall /oZo9AmzVVPZFWGV8yFlKFT7t4YF.jpg tt5814512 10.0\n",
      "Three Wise Girls /58w9UGxOrC5Fh5GDUslpdmqZL92.jpg tt0023589 5.6\n",
      "The Italian Connection /7pyJnQ4TL9SWbUGC0w7q5J9n8qc.jpg tt0068902 7.1\n",
      "Terminator 3: Rise of the Machines /lz4xYdF1n09lyiCfZWtWT44SZiG.jpg tt0181852 5.9\n",
      "Sunset Boulevard /oFwzvRgfxJc0FUr2mwYTi10dk3G.jpg tt0043014 8.2\n",
      "Little Lord Fauntleroy /sCaL9aoidOZZy0lT2JThbQAaXH0.jpg tt0027893 6.6\n",
      "Terminator Salvation /gw6JhlekZgtKUFlDTezq3j5JEPK.jpg tt0438488 5.9\n",
      "Volcano /axxkhk0uw9uMZsqDYuJXrWEs3il.jpg tt1695831 7.0\n",
      "Man Down /xX13pMLcnSun6CqbOpKcVmkr335.jpg tt2461520 6.3\n",
      "Lady Terminator /oyUrhAggD7y1h2D7PEQm0AkIRFt.jpg tt0095483 5.7\n",
      "My Boyfriend an Angel /i0Egm9mttR6PFd1Wfj6sNqWrK6V.jpg tt2158649 5.8\n",
      "G.O.R.A. /4E8pLVEikCfGaoeXj8EoVemXE6y.jpg tt0384116 7.4\n",
      "American Mary /vLy2Ldg3vGlpXwF8ZeUL40iDtLK.jpg tt1959332 5.8\n",
      "Blood from the Mummy's Tomb /qVu0K3t902Nl1eFevjXBh3owd6A.jpg tt0068290 6.4\n",
      "Terminator Genisys /5JU9ytZJyR3zmClGmVm9q4Geqbd.jpg tt1340138 5.8\n",
      "Terminator 2: Judgment Day /2y4dmgWYRMYXdD1UyJVcn2HSd1D.jpg tt0103064 7.7\n",
      "Sum of Histories /ynhBJc7XGUJcUcs815qvzR9pR6e.jpg tt4085502 10.0\n",
      "Duck Dodgers in the 24½th Century /l1CQTtfH4pcZ8TpmTMdI3VTfagN.jpg tt0045709 7.7\n",
      "Myq Kaplan: Small, Dork and Handsome /rBQhTpNY7J13dwGaBurYJe5U04r.jpg tt2829108 6.5\n",
      "Russian Terminator /qDNIpx3Tjm6Bx1kyqL6ZXBXNFNF.jpg tt0100531 8.0\n",
      "The Wee Man /3ngzDyG0RG2xkE1Ir0QvF8EJ4OH.jpg tt2113809 5.5\n",
      "Jasminum /oeFPOEm7oBFpwWST3SEasjcht2B.jpg tt0778749 6.0\n",
      "Exterminators of the Year 3000 /8rwnG5sVrm30XnPARasniXQOFLu.jpg tt0085514 6.0\n",
      "Jean de Florette /8jJgzwahSu2H7kaGhBu7LPYxsj1.jpg tt0091288 7.6\n",
      "The House of Small Cubes /y3Ux7ZKoxaDf4mIiLGYl38nm2RY.jpg tt1361566 7.9\n",
      "Tables Turned on the Gardener /7LALhIuRLvwzqe6p10M8upidNhQ.jpg tt0000014 7.0\n",
      "I Am My Films: A Portrait of Werner Herzog /hHCdMfVIvaRF79cCCNf6BJE7Dp7.jpg tt0139735 8.0\n"
     ]
    }
   ],
   "source": [
    "result=recomand('Terminator')\n",
    "# mv.iloc[25912]\n",
    "for rs in result[1:]:\n",
    "   g=(mv.iloc[rs[1]])\n",
    "   print(g.title,g.poster_path,g.imdb_id,g.vote_average\t)\n",
    "    "
   ]
  },
  {
   "cell_type": "code",
   "execution_count": 13,
   "metadata": {},
   "outputs": [],
   "source": [
    "import pickle\n",
    "pickle.dump(mv.to_dict(),open('movie_dict.pkl','wb'))\n",
    "pickle.dump(similarmovie,open('similarity.pkl','wb'))"
   ]
  }
 ],
 "metadata": {
  "kernelspec": {
   "display_name": "Python 3",
   "language": "python",
   "name": "python3"
  },
  "language_info": {
   "codemirror_mode": {
    "name": "ipython",
    "version": 3
   },
   "file_extension": ".py",
   "mimetype": "text/x-python",
   "name": "python",
   "nbconvert_exporter": "python",
   "pygments_lexer": "ipython3",
   "version": "3.9.10"
  }
 },
 "nbformat": 4,
 "nbformat_minor": 2
}
