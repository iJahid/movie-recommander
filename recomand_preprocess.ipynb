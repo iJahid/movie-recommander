{
 "cells": [
  {
   "cell_type": "code",
   "execution_count": 1,
   "metadata": {},
   "outputs": [],
   "source": [
    "import numpy as np\n",
    "import pandas as pd\n"
   ]
  },
  {
   "cell_type": "code",
   "execution_count": 113,
   "metadata": {},
   "outputs": [
    {
     "name": "stderr",
     "output_type": "stream",
     "text": [
      "C:\\Users\\JAHID\\AppData\\Local\\Temp\\ipykernel_14836\\2822973294.py:1: DtypeWarning: Columns (10) have mixed types. Specify dtype option on import or set low_memory=False.\n",
      "  movies=pd.read_csv('movies_metadata.csv')\n"
     ]
    }
   ],
   "source": [
    "movies=pd.read_csv('movies_metadata.csv')\n",
    "credits=pd.read_csv('credits.csv')"
   ]
  },
  {
   "cell_type": "code",
   "execution_count": 19,
   "metadata": {},
   "outputs": [
    {
     "data": {
      "text/plain": [
       "Index(['adult', 'belongs_to_collection', 'budget', 'genres', 'homepage', 'id',\n",
       "       'imdb_id', 'original_language', 'original_title', 'overview',\n",
       "       'popularity', 'poster_path', 'production_companies',\n",
       "       'production_countries', 'release_date', 'revenue', 'runtime',\n",
       "       'spoken_languages', 'status', 'tagline', 'title', 'video',\n",
       "       'vote_average', 'vote_count'],\n",
       "      dtype='object')"
      ]
     },
     "execution_count": 19,
     "metadata": {},
     "output_type": "execute_result"
    }
   ],
   "source": [
    "movies.columns"
   ]
  },
  {
   "cell_type": "code",
   "execution_count": 114,
   "metadata": {},
   "outputs": [
    {
     "name": "stderr",
     "output_type": "stream",
     "text": [
      "C:\\Users\\JAHID\\AppData\\Local\\Temp\\ipykernel_14836\\882625558.py:2: SettingWithCopyWarning: \n",
      "A value is trying to be set on a copy of a slice from a DataFrame.\n",
      "Try using .loc[row_indexer,col_indexer] = value instead\n",
      "\n",
      "See the caveats in the documentation: https://pandas.pydata.org/pandas-docs/stable/user_guide/indexing.html#returning-a-view-versus-a-copy\n",
      "  movies1['adult']=movies1['adult'].apply(lambda x : \"Adult\" if x == True else 'NoAdult')\n"
     ]
    }
   ],
   "source": [
    "movies1=movies[['id','title','adult','imdb_id','genres','poster_path','overview','vote_average']]\n",
    "movies1['adult']=movies1['adult'].apply(lambda x : \"Adult\" if x == True else 'NoAdult')\n"
   ]
  },
  {
   "cell_type": "code",
   "execution_count": 21,
   "metadata": {},
   "outputs": [],
   "source": [
    "import ast\n"
   ]
  },
  {
   "cell_type": "code",
   "execution_count": 115,
   "metadata": {},
   "outputs": [
    {
     "name": "stderr",
     "output_type": "stream",
     "text": [
      "C:\\Users\\JAHID\\AppData\\Local\\Temp\\ipykernel_14836\\1953231344.py:12: SettingWithCopyWarning: \n",
      "A value is trying to be set on a copy of a slice from a DataFrame.\n",
      "Try using .loc[row_indexer,col_indexer] = value instead\n",
      "\n",
      "See the caveats in the documentation: https://pandas.pydata.org/pandas-docs/stable/user_guide/indexing.html#returning-a-view-versus-a-copy\n",
      "  movies1['genres']=movies1['genres'].apply(getgenre)\n"
     ]
    }
   ],
   "source": [
    "def getgenre(obj):\n",
    "    l=[]\n",
    "    for i in ast.literal_eval( obj):\n",
    "        l.append(i['name'])\n",
    "\n",
    "    return l\n",
    "\n",
    "\n",
    "#f=ast.literal_eval( \"[{'id': 16, 'name': 'Animation'}, {'id': 35, 'name': 'Comedy'}, {'id': 10751, 'name': 'Family'}]\")\n",
    "\n",
    "#getgenre(f)\n",
    "movies1['genres']=movies1['genres'].apply(getgenre)"
   ]
  },
  {
   "cell_type": "code",
   "execution_count": 116,
   "metadata": {},
   "outputs": [
    {
     "name": "stdout",
     "output_type": "stream",
     "text": [
      "(45466, 8) (45476, 3)\n"
     ]
    },
    {
     "name": "stderr",
     "output_type": "stream",
     "text": [
      "C:\\Users\\JAHID\\AppData\\Local\\Temp\\ipykernel_14836\\1083776754.py:2: SettingWithCopyWarning: \n",
      "A value is trying to be set on a copy of a slice from a DataFrame.\n",
      "Try using .loc[row_indexer,col_indexer] = value instead\n",
      "\n",
      "See the caveats in the documentation: https://pandas.pydata.org/pandas-docs/stable/user_guide/indexing.html#returning-a-view-versus-a-copy\n",
      "  movies1['id']=pd.to_numeric(movies1['id'], errors='coerce')\n"
     ]
    }
   ],
   "source": [
    "print (movies1.shape,credits.shape)\n",
    "movies1['id']=pd.to_numeric(movies1['id'], errors='coerce')\n"
   ]
  },
  {
   "cell_type": "code",
   "execution_count": 117,
   "metadata": {},
   "outputs": [],
   "source": [
    "credits['id']=pd.to_numeric(credits['id'], errors='coerce').astype(float)\n"
   ]
  },
  {
   "cell_type": "code",
   "execution_count": 118,
   "metadata": {},
   "outputs": [],
   "source": [
    "movies1=movies1.merge(credits,on='id',how='right')\n",
    "#credits.info()"
   ]
  },
  {
   "cell_type": "code",
   "execution_count": 96,
   "metadata": {},
   "outputs": [
    {
     "name": "stdout",
     "output_type": "stream",
     "text": [
      "<class 'pandas.core.frame.DataFrame'>\n",
      "RangeIndex: 45476 entries, 0 to 45475\n",
      "Data columns (total 3 columns):\n",
      " #   Column  Non-Null Count  Dtype  \n",
      "---  ------  --------------  -----  \n",
      " 0   cast    45476 non-null  object \n",
      " 1   crew    45476 non-null  object \n",
      " 2   id      45476 non-null  float64\n",
      "dtypes: float64(1), object(2)\n",
      "memory usage: 1.0+ MB\n"
     ]
    }
   ],
   "source": [
    "credits.info()"
   ]
  },
  {
   "cell_type": "code",
   "execution_count": 119,
   "metadata": {},
   "outputs": [],
   "source": [
    "movies1['cast']=movies1['cast'].apply(getgenre)"
   ]
  },
  {
   "cell_type": "code",
   "execution_count": 120,
   "metadata": {},
   "outputs": [],
   "source": [
    "def Director(obj):\n",
    "    l=[]\n",
    "    for i in ast.literal_eval( obj):\n",
    "       if i['job']=='Director':\n",
    "          l.append(i['name'])\n",
    "          break\n",
    "\n",
    "    return l\n",
    "\n",
    "\n",
    "movies1['crew']=movies1['crew'].apply(Director)"
   ]
  },
  {
   "cell_type": "code",
   "execution_count": 121,
   "metadata": {},
   "outputs": [
    {
     "data": {
      "text/plain": [
       "id                0\n",
       "title             3\n",
       "adult             0\n",
       "imdb_id          17\n",
       "genres            0\n",
       "poster_path     386\n",
       "overview        954\n",
       "vote_average      3\n",
       "cast              0\n",
       "crew              0\n",
       "dtype: int64"
      ]
     },
     "execution_count": 121,
     "metadata": {},
     "output_type": "execute_result"
    }
   ],
   "source": [
    "movies1.isnull().sum()"
   ]
  },
  {
   "cell_type": "code",
   "execution_count": 122,
   "metadata": {},
   "outputs": [
    {
     "data": {
      "text/html": [
       "<div>\n",
       "<style scoped>\n",
       "    .dataframe tbody tr th:only-of-type {\n",
       "        vertical-align: middle;\n",
       "    }\n",
       "\n",
       "    .dataframe tbody tr th {\n",
       "        vertical-align: top;\n",
       "    }\n",
       "\n",
       "    .dataframe thead th {\n",
       "        text-align: right;\n",
       "    }\n",
       "</style>\n",
       "<table border=\"1\" class=\"dataframe\">\n",
       "  <thead>\n",
       "    <tr style=\"text-align: right;\">\n",
       "      <th></th>\n",
       "      <th>id</th>\n",
       "      <th>title</th>\n",
       "      <th>adult</th>\n",
       "      <th>imdb_id</th>\n",
       "      <th>genres</th>\n",
       "      <th>poster_path</th>\n",
       "      <th>overview</th>\n",
       "      <th>vote_average</th>\n",
       "      <th>cast</th>\n",
       "      <th>crew</th>\n",
       "    </tr>\n",
       "  </thead>\n",
       "  <tbody>\n",
       "    <tr>\n",
       "      <th>0</th>\n",
       "      <td>862.0</td>\n",
       "      <td>Toy Story</td>\n",
       "      <td>NoAdult</td>\n",
       "      <td>tt0114709</td>\n",
       "      <td>[Animation, Comedy, Family]</td>\n",
       "      <td>/rhIRbceoE9lR4veEXuwCC2wARtG.jpg</td>\n",
       "      <td>Led by Woody, Andy's toys live happily in his ...</td>\n",
       "      <td>7.7</td>\n",
       "      <td>[Tom Hanks, Tim Allen, Don Rickles, Jim Varney...</td>\n",
       "      <td>[John Lasseter]</td>\n",
       "    </tr>\n",
       "    <tr>\n",
       "      <th>1</th>\n",
       "      <td>8844.0</td>\n",
       "      <td>Jumanji</td>\n",
       "      <td>NoAdult</td>\n",
       "      <td>tt0113497</td>\n",
       "      <td>[Adventure, Fantasy, Family]</td>\n",
       "      <td>/vzmL6fP7aPKNKPRTFnZmiUfciyV.jpg</td>\n",
       "      <td>When siblings Judy and Peter discover an encha...</td>\n",
       "      <td>6.9</td>\n",
       "      <td>[Robin Williams, Jonathan Hyde, Kirsten Dunst,...</td>\n",
       "      <td>[Joe Johnston]</td>\n",
       "    </tr>\n",
       "    <tr>\n",
       "      <th>2</th>\n",
       "      <td>15602.0</td>\n",
       "      <td>Grumpier Old Men</td>\n",
       "      <td>NoAdult</td>\n",
       "      <td>tt0113228</td>\n",
       "      <td>[Romance, Comedy]</td>\n",
       "      <td>/6ksm1sjKMFLbO7UY2i6G1ju9SML.jpg</td>\n",
       "      <td>A family wedding reignites the ancient feud be...</td>\n",
       "      <td>6.5</td>\n",
       "      <td>[Walter Matthau, Jack Lemmon, Ann-Margret, Sop...</td>\n",
       "      <td>[Howard Deutch]</td>\n",
       "    </tr>\n",
       "    <tr>\n",
       "      <th>3</th>\n",
       "      <td>31357.0</td>\n",
       "      <td>Waiting to Exhale</td>\n",
       "      <td>NoAdult</td>\n",
       "      <td>tt0114885</td>\n",
       "      <td>[Comedy, Drama, Romance]</td>\n",
       "      <td>/16XOMpEaLWkrcPqSQqhTmeJuqQl.jpg</td>\n",
       "      <td>Cheated on, mistreated and stepped on, the wom...</td>\n",
       "      <td>6.1</td>\n",
       "      <td>[Whitney Houston, Angela Bassett, Loretta Devi...</td>\n",
       "      <td>[Forest Whitaker]</td>\n",
       "    </tr>\n",
       "    <tr>\n",
       "      <th>4</th>\n",
       "      <td>11862.0</td>\n",
       "      <td>Father of the Bride Part II</td>\n",
       "      <td>NoAdult</td>\n",
       "      <td>tt0113041</td>\n",
       "      <td>[Comedy]</td>\n",
       "      <td>/e64sOI48hQXyru7naBFyssKFxVd.jpg</td>\n",
       "      <td>Just when George Banks has recovered from his ...</td>\n",
       "      <td>5.7</td>\n",
       "      <td>[Steve Martin, Diane Keaton, Martin Short, Kim...</td>\n",
       "      <td>[Charles Shyer]</td>\n",
       "    </tr>\n",
       "  </tbody>\n",
       "</table>\n",
       "</div>"
      ],
      "text/plain": [
       "        id                        title    adult    imdb_id  \\\n",
       "0    862.0                    Toy Story  NoAdult  tt0114709   \n",
       "1   8844.0                      Jumanji  NoAdult  tt0113497   \n",
       "2  15602.0             Grumpier Old Men  NoAdult  tt0113228   \n",
       "3  31357.0            Waiting to Exhale  NoAdult  tt0114885   \n",
       "4  11862.0  Father of the Bride Part II  NoAdult  tt0113041   \n",
       "\n",
       "                         genres                       poster_path  \\\n",
       "0   [Animation, Comedy, Family]  /rhIRbceoE9lR4veEXuwCC2wARtG.jpg   \n",
       "1  [Adventure, Fantasy, Family]  /vzmL6fP7aPKNKPRTFnZmiUfciyV.jpg   \n",
       "2             [Romance, Comedy]  /6ksm1sjKMFLbO7UY2i6G1ju9SML.jpg   \n",
       "3      [Comedy, Drama, Romance]  /16XOMpEaLWkrcPqSQqhTmeJuqQl.jpg   \n",
       "4                      [Comedy]  /e64sOI48hQXyru7naBFyssKFxVd.jpg   \n",
       "\n",
       "                                            overview  vote_average  \\\n",
       "0  Led by Woody, Andy's toys live happily in his ...           7.7   \n",
       "1  When siblings Judy and Peter discover an encha...           6.9   \n",
       "2  A family wedding reignites the ancient feud be...           6.5   \n",
       "3  Cheated on, mistreated and stepped on, the wom...           6.1   \n",
       "4  Just when George Banks has recovered from his ...           5.7   \n",
       "\n",
       "                                                cast               crew  \n",
       "0  [Tom Hanks, Tim Allen, Don Rickles, Jim Varney...    [John Lasseter]  \n",
       "1  [Robin Williams, Jonathan Hyde, Kirsten Dunst,...     [Joe Johnston]  \n",
       "2  [Walter Matthau, Jack Lemmon, Ann-Margret, Sop...    [Howard Deutch]  \n",
       "3  [Whitney Houston, Angela Bassett, Loretta Devi...  [Forest Whitaker]  \n",
       "4  [Steve Martin, Diane Keaton, Martin Short, Kim...    [Charles Shyer]  "
      ]
     },
     "execution_count": 122,
     "metadata": {},
     "output_type": "execute_result"
    }
   ],
   "source": [
    "movies1.dropna()\n",
    "movies1.head()"
   ]
  },
  {
   "cell_type": "code",
   "execution_count": 123,
   "metadata": {},
   "outputs": [],
   "source": [
    "movies1['crew']=movies1['crew'].apply(lambda x:[i.replace(' ','') for i in x])\n",
    "movies1['cast']=movies1['cast'].apply(lambda x:[i.replace(' ','') for i in x])"
   ]
  },
  {
   "cell_type": "code",
   "execution_count": 124,
   "metadata": {},
   "outputs": [],
   "source": [
    "movies1['overview']=movies1['overview'].astype(str).apply(lambda x:x.split())"
   ]
  },
  {
   "cell_type": "code",
   "execution_count": 138,
   "metadata": {},
   "outputs": [
    {
     "data": {
      "text/plain": [
       "[{'asdsad'}]"
      ]
     },
     "execution_count": 138,
     "metadata": {},
     "output_type": "execute_result"
    }
   ],
   "source": [
    "ast.literal_eval('[{\"asdsad\"}]')"
   ]
  },
  {
   "cell_type": "code",
   "execution_count": 143,
   "metadata": {},
   "outputs": [],
   "source": [
    "movies1['tags']=movies1['overview']+movies1['cast']+movies1['crew']+ movies1['adult'].apply(lambda x: ast.literal_eval('[\"'+x+'\"]'))"
   ]
  },
  {
   "cell_type": "code",
   "execution_count": 126,
   "metadata": {},
   "outputs": [
    {
     "data": {
      "text/html": [
       "<div>\n",
       "<style scoped>\n",
       "    .dataframe tbody tr th:only-of-type {\n",
       "        vertical-align: middle;\n",
       "    }\n",
       "\n",
       "    .dataframe tbody tr th {\n",
       "        vertical-align: top;\n",
       "    }\n",
       "\n",
       "    .dataframe thead th {\n",
       "        text-align: right;\n",
       "    }\n",
       "</style>\n",
       "<table border=\"1\" class=\"dataframe\">\n",
       "  <thead>\n",
       "    <tr style=\"text-align: right;\">\n",
       "      <th></th>\n",
       "      <th>id</th>\n",
       "      <th>title</th>\n",
       "      <th>adult</th>\n",
       "      <th>imdb_id</th>\n",
       "      <th>genres</th>\n",
       "      <th>poster_path</th>\n",
       "      <th>overview</th>\n",
       "      <th>vote_average</th>\n",
       "      <th>cast</th>\n",
       "      <th>crew</th>\n",
       "      <th>tags</th>\n",
       "    </tr>\n",
       "  </thead>\n",
       "  <tbody>\n",
       "    <tr>\n",
       "      <th>0</th>\n",
       "      <td>862.0</td>\n",
       "      <td>Toy Story</td>\n",
       "      <td>NoAdult</td>\n",
       "      <td>tt0114709</td>\n",
       "      <td>[Animation, Comedy, Family]</td>\n",
       "      <td>/rhIRbceoE9lR4veEXuwCC2wARtG.jpg</td>\n",
       "      <td>[Led, by, Woody,, Andy's, toys, live, happily,...</td>\n",
       "      <td>7.7</td>\n",
       "      <td>[TomHanks, TimAllen, DonRickles, JimVarney, Wa...</td>\n",
       "      <td>[JohnLasseter]</td>\n",
       "      <td>[Led, by, Woody,, Andy's, toys, live, happily,...</td>\n",
       "    </tr>\n",
       "    <tr>\n",
       "      <th>1</th>\n",
       "      <td>8844.0</td>\n",
       "      <td>Jumanji</td>\n",
       "      <td>NoAdult</td>\n",
       "      <td>tt0113497</td>\n",
       "      <td>[Adventure, Fantasy, Family]</td>\n",
       "      <td>/vzmL6fP7aPKNKPRTFnZmiUfciyV.jpg</td>\n",
       "      <td>[When, siblings, Judy, and, Peter, discover, a...</td>\n",
       "      <td>6.9</td>\n",
       "      <td>[RobinWilliams, JonathanHyde, KirstenDunst, Br...</td>\n",
       "      <td>[JoeJohnston]</td>\n",
       "      <td>[When, siblings, Judy, and, Peter, discover, a...</td>\n",
       "    </tr>\n",
       "    <tr>\n",
       "      <th>2</th>\n",
       "      <td>15602.0</td>\n",
       "      <td>Grumpier Old Men</td>\n",
       "      <td>NoAdult</td>\n",
       "      <td>tt0113228</td>\n",
       "      <td>[Romance, Comedy]</td>\n",
       "      <td>/6ksm1sjKMFLbO7UY2i6G1ju9SML.jpg</td>\n",
       "      <td>[A, family, wedding, reignites, the, ancient, ...</td>\n",
       "      <td>6.5</td>\n",
       "      <td>[WalterMatthau, JackLemmon, Ann-Margret, Sophi...</td>\n",
       "      <td>[HowardDeutch]</td>\n",
       "      <td>[A, family, wedding, reignites, the, ancient, ...</td>\n",
       "    </tr>\n",
       "    <tr>\n",
       "      <th>3</th>\n",
       "      <td>31357.0</td>\n",
       "      <td>Waiting to Exhale</td>\n",
       "      <td>NoAdult</td>\n",
       "      <td>tt0114885</td>\n",
       "      <td>[Comedy, Drama, Romance]</td>\n",
       "      <td>/16XOMpEaLWkrcPqSQqhTmeJuqQl.jpg</td>\n",
       "      <td>[Cheated, on,, mistreated, and, stepped, on,, ...</td>\n",
       "      <td>6.1</td>\n",
       "      <td>[WhitneyHouston, AngelaBassett, LorettaDevine,...</td>\n",
       "      <td>[ForestWhitaker]</td>\n",
       "      <td>[Cheated, on,, mistreated, and, stepped, on,, ...</td>\n",
       "    </tr>\n",
       "    <tr>\n",
       "      <th>4</th>\n",
       "      <td>11862.0</td>\n",
       "      <td>Father of the Bride Part II</td>\n",
       "      <td>NoAdult</td>\n",
       "      <td>tt0113041</td>\n",
       "      <td>[Comedy]</td>\n",
       "      <td>/e64sOI48hQXyru7naBFyssKFxVd.jpg</td>\n",
       "      <td>[Just, when, George, Banks, has, recovered, fr...</td>\n",
       "      <td>5.7</td>\n",
       "      <td>[SteveMartin, DianeKeaton, MartinShort, Kimber...</td>\n",
       "      <td>[CharlesShyer]</td>\n",
       "      <td>[Just, when, George, Banks, has, recovered, fr...</td>\n",
       "    </tr>\n",
       "  </tbody>\n",
       "</table>\n",
       "</div>"
      ],
      "text/plain": [
       "        id                        title    adult    imdb_id  \\\n",
       "0    862.0                    Toy Story  NoAdult  tt0114709   \n",
       "1   8844.0                      Jumanji  NoAdult  tt0113497   \n",
       "2  15602.0             Grumpier Old Men  NoAdult  tt0113228   \n",
       "3  31357.0            Waiting to Exhale  NoAdult  tt0114885   \n",
       "4  11862.0  Father of the Bride Part II  NoAdult  tt0113041   \n",
       "\n",
       "                         genres                       poster_path  \\\n",
       "0   [Animation, Comedy, Family]  /rhIRbceoE9lR4veEXuwCC2wARtG.jpg   \n",
       "1  [Adventure, Fantasy, Family]  /vzmL6fP7aPKNKPRTFnZmiUfciyV.jpg   \n",
       "2             [Romance, Comedy]  /6ksm1sjKMFLbO7UY2i6G1ju9SML.jpg   \n",
       "3      [Comedy, Drama, Romance]  /16XOMpEaLWkrcPqSQqhTmeJuqQl.jpg   \n",
       "4                      [Comedy]  /e64sOI48hQXyru7naBFyssKFxVd.jpg   \n",
       "\n",
       "                                            overview  vote_average  \\\n",
       "0  [Led, by, Woody,, Andy's, toys, live, happily,...           7.7   \n",
       "1  [When, siblings, Judy, and, Peter, discover, a...           6.9   \n",
       "2  [A, family, wedding, reignites, the, ancient, ...           6.5   \n",
       "3  [Cheated, on,, mistreated, and, stepped, on,, ...           6.1   \n",
       "4  [Just, when, George, Banks, has, recovered, fr...           5.7   \n",
       "\n",
       "                                                cast              crew  \\\n",
       "0  [TomHanks, TimAllen, DonRickles, JimVarney, Wa...    [JohnLasseter]   \n",
       "1  [RobinWilliams, JonathanHyde, KirstenDunst, Br...     [JoeJohnston]   \n",
       "2  [WalterMatthau, JackLemmon, Ann-Margret, Sophi...    [HowardDeutch]   \n",
       "3  [WhitneyHouston, AngelaBassett, LorettaDevine,...  [ForestWhitaker]   \n",
       "4  [SteveMartin, DianeKeaton, MartinShort, Kimber...    [CharlesShyer]   \n",
       "\n",
       "                                                tags  \n",
       "0  [Led, by, Woody,, Andy's, toys, live, happily,...  \n",
       "1  [When, siblings, Judy, and, Peter, discover, a...  \n",
       "2  [A, family, wedding, reignites, the, ancient, ...  \n",
       "3  [Cheated, on,, mistreated, and, stepped, on,, ...  \n",
       "4  [Just, when, George, Banks, has, recovered, fr...  "
      ]
     },
     "execution_count": 126,
     "metadata": {},
     "output_type": "execute_result"
    }
   ],
   "source": [
    "movies1.head()"
   ]
  },
  {
   "cell_type": "code",
   "execution_count": 145,
   "metadata": {},
   "outputs": [
    {
     "data": {
      "text/plain": [
       "\"Led by Woody, Andy's toys live happily in his room until Andy's birthday brings Buzz Lightyear onto the scene. Afraid of losing his place in Andy's heart, Woody plots against Buzz. But when circumstances separate Buzz and Woody from their owner, the duo eventually learns to put aside their differences. TomHanks TimAllen DonRickles JimVarney WallaceShawn JohnRatzenberger AnniePotts JohnMorris ErikvonDetten LaurieMetcalf R.LeeErmey SarahFreeman PennJillette JohnLasseter NoAdult\""
      ]
     },
     "execution_count": 145,
     "metadata": {},
     "output_type": "execute_result"
    }
   ],
   "source": [
    "movies1['tags']=movies1['tags'].apply(lambda x: \" \".join(x))\n",
    "movies1['tags'][0]"
   ]
  },
  {
   "cell_type": "code",
   "execution_count": 146,
   "metadata": {},
   "outputs": [],
   "source": [
    "movies1['tags']=movies1['tags'].apply(lambda x: x.lower())"
   ]
  },
  {
   "cell_type": "code",
   "execution_count": 147,
   "metadata": {},
   "outputs": [
    {
     "data": {
      "text/html": [
       "<div>\n",
       "<style scoped>\n",
       "    .dataframe tbody tr th:only-of-type {\n",
       "        vertical-align: middle;\n",
       "    }\n",
       "\n",
       "    .dataframe tbody tr th {\n",
       "        vertical-align: top;\n",
       "    }\n",
       "\n",
       "    .dataframe thead th {\n",
       "        text-align: right;\n",
       "    }\n",
       "</style>\n",
       "<table border=\"1\" class=\"dataframe\">\n",
       "  <thead>\n",
       "    <tr style=\"text-align: right;\">\n",
       "      <th></th>\n",
       "      <th>id</th>\n",
       "      <th>title</th>\n",
       "      <th>adult</th>\n",
       "      <th>imdb_id</th>\n",
       "      <th>genres</th>\n",
       "      <th>poster_path</th>\n",
       "      <th>overview</th>\n",
       "      <th>vote_average</th>\n",
       "      <th>cast</th>\n",
       "      <th>crew</th>\n",
       "      <th>tags</th>\n",
       "    </tr>\n",
       "  </thead>\n",
       "  <tbody>\n",
       "    <tr>\n",
       "      <th>0</th>\n",
       "      <td>862.0</td>\n",
       "      <td>Toy Story</td>\n",
       "      <td>NoAdult</td>\n",
       "      <td>tt0114709</td>\n",
       "      <td>[Animation, Comedy, Family]</td>\n",
       "      <td>/rhIRbceoE9lR4veEXuwCC2wARtG.jpg</td>\n",
       "      <td>[Led, by, Woody,, Andy's, toys, live, happily,...</td>\n",
       "      <td>7.7</td>\n",
       "      <td>[TomHanks, TimAllen, DonRickles, JimVarney, Wa...</td>\n",
       "      <td>[JohnLasseter]</td>\n",
       "      <td>led by woody, andy's toys live happily in his ...</td>\n",
       "    </tr>\n",
       "    <tr>\n",
       "      <th>1</th>\n",
       "      <td>8844.0</td>\n",
       "      <td>Jumanji</td>\n",
       "      <td>NoAdult</td>\n",
       "      <td>tt0113497</td>\n",
       "      <td>[Adventure, Fantasy, Family]</td>\n",
       "      <td>/vzmL6fP7aPKNKPRTFnZmiUfciyV.jpg</td>\n",
       "      <td>[When, siblings, Judy, and, Peter, discover, a...</td>\n",
       "      <td>6.9</td>\n",
       "      <td>[RobinWilliams, JonathanHyde, KirstenDunst, Br...</td>\n",
       "      <td>[JoeJohnston]</td>\n",
       "      <td>when siblings judy and peter discover an encha...</td>\n",
       "    </tr>\n",
       "    <tr>\n",
       "      <th>2</th>\n",
       "      <td>15602.0</td>\n",
       "      <td>Grumpier Old Men</td>\n",
       "      <td>NoAdult</td>\n",
       "      <td>tt0113228</td>\n",
       "      <td>[Romance, Comedy]</td>\n",
       "      <td>/6ksm1sjKMFLbO7UY2i6G1ju9SML.jpg</td>\n",
       "      <td>[A, family, wedding, reignites, the, ancient, ...</td>\n",
       "      <td>6.5</td>\n",
       "      <td>[WalterMatthau, JackLemmon, Ann-Margret, Sophi...</td>\n",
       "      <td>[HowardDeutch]</td>\n",
       "      <td>a family wedding reignites the ancient feud be...</td>\n",
       "    </tr>\n",
       "    <tr>\n",
       "      <th>3</th>\n",
       "      <td>31357.0</td>\n",
       "      <td>Waiting to Exhale</td>\n",
       "      <td>NoAdult</td>\n",
       "      <td>tt0114885</td>\n",
       "      <td>[Comedy, Drama, Romance]</td>\n",
       "      <td>/16XOMpEaLWkrcPqSQqhTmeJuqQl.jpg</td>\n",
       "      <td>[Cheated, on,, mistreated, and, stepped, on,, ...</td>\n",
       "      <td>6.1</td>\n",
       "      <td>[WhitneyHouston, AngelaBassett, LorettaDevine,...</td>\n",
       "      <td>[ForestWhitaker]</td>\n",
       "      <td>cheated on, mistreated and stepped on, the wom...</td>\n",
       "    </tr>\n",
       "    <tr>\n",
       "      <th>4</th>\n",
       "      <td>11862.0</td>\n",
       "      <td>Father of the Bride Part II</td>\n",
       "      <td>NoAdult</td>\n",
       "      <td>tt0113041</td>\n",
       "      <td>[Comedy]</td>\n",
       "      <td>/e64sOI48hQXyru7naBFyssKFxVd.jpg</td>\n",
       "      <td>[Just, when, George, Banks, has, recovered, fr...</td>\n",
       "      <td>5.7</td>\n",
       "      <td>[SteveMartin, DianeKeaton, MartinShort, Kimber...</td>\n",
       "      <td>[CharlesShyer]</td>\n",
       "      <td>just when george banks has recovered from his ...</td>\n",
       "    </tr>\n",
       "  </tbody>\n",
       "</table>\n",
       "</div>"
      ],
      "text/plain": [
       "        id                        title    adult    imdb_id  \\\n",
       "0    862.0                    Toy Story  NoAdult  tt0114709   \n",
       "1   8844.0                      Jumanji  NoAdult  tt0113497   \n",
       "2  15602.0             Grumpier Old Men  NoAdult  tt0113228   \n",
       "3  31357.0            Waiting to Exhale  NoAdult  tt0114885   \n",
       "4  11862.0  Father of the Bride Part II  NoAdult  tt0113041   \n",
       "\n",
       "                         genres                       poster_path  \\\n",
       "0   [Animation, Comedy, Family]  /rhIRbceoE9lR4veEXuwCC2wARtG.jpg   \n",
       "1  [Adventure, Fantasy, Family]  /vzmL6fP7aPKNKPRTFnZmiUfciyV.jpg   \n",
       "2             [Romance, Comedy]  /6ksm1sjKMFLbO7UY2i6G1ju9SML.jpg   \n",
       "3      [Comedy, Drama, Romance]  /16XOMpEaLWkrcPqSQqhTmeJuqQl.jpg   \n",
       "4                      [Comedy]  /e64sOI48hQXyru7naBFyssKFxVd.jpg   \n",
       "\n",
       "                                            overview  vote_average  \\\n",
       "0  [Led, by, Woody,, Andy's, toys, live, happily,...           7.7   \n",
       "1  [When, siblings, Judy, and, Peter, discover, a...           6.9   \n",
       "2  [A, family, wedding, reignites, the, ancient, ...           6.5   \n",
       "3  [Cheated, on,, mistreated, and, stepped, on,, ...           6.1   \n",
       "4  [Just, when, George, Banks, has, recovered, fr...           5.7   \n",
       "\n",
       "                                                cast              crew  \\\n",
       "0  [TomHanks, TimAllen, DonRickles, JimVarney, Wa...    [JohnLasseter]   \n",
       "1  [RobinWilliams, JonathanHyde, KirstenDunst, Br...     [JoeJohnston]   \n",
       "2  [WalterMatthau, JackLemmon, Ann-Margret, Sophi...    [HowardDeutch]   \n",
       "3  [WhitneyHouston, AngelaBassett, LorettaDevine,...  [ForestWhitaker]   \n",
       "4  [SteveMartin, DianeKeaton, MartinShort, Kimber...    [CharlesShyer]   \n",
       "\n",
       "                                                tags  \n",
       "0  led by woody, andy's toys live happily in his ...  \n",
       "1  when siblings judy and peter discover an encha...  \n",
       "2  a family wedding reignites the ancient feud be...  \n",
       "3  cheated on, mistreated and stepped on, the wom...  \n",
       "4  just when george banks has recovered from his ...  "
      ]
     },
     "execution_count": 147,
     "metadata": {},
     "output_type": "execute_result"
    }
   ],
   "source": [
    "movies1.dropna()\n",
    "movies1.head()"
   ]
  },
  {
   "cell_type": "code",
   "execution_count": null,
   "metadata": {},
   "outputs": [],
   "source": [
    "\n",
    "movies1.to_csv('movie_final.csv', index=False)"
   ]
  }
 ],
 "metadata": {
  "kernelspec": {
   "display_name": "Python 3",
   "language": "python",
   "name": "python3"
  },
  "language_info": {
   "codemirror_mode": {
    "name": "ipython",
    "version": 3
   },
   "file_extension": ".py",
   "mimetype": "text/x-python",
   "name": "python",
   "nbconvert_exporter": "python",
   "pygments_lexer": "ipython3",
   "version": "3.9.10"
  }
 },
 "nbformat": 4,
 "nbformat_minor": 2
}
